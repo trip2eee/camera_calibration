{
 "cells": [
  {
   "cell_type": "markdown",
   "source": [
    "# Homography"
   ],
   "metadata": {}
  },
  {
   "cell_type": "code",
   "execution_count": 41,
   "source": [
    "import sympy as sp\r\n",
    "from IPython.display import display\r\n",
    "\r\n",
    "h11, h12, h13 = sp.symbols('h11 h12 h13')\r\n",
    "h21, h22, h23 = sp.symbols('h21 h22 h23')\r\n",
    "h31, h32      = sp.symbols('h31 h32')\r\n",
    "\r\n",
    "x, y = sp.symbols('x y')\r\n",
    "u, v = sp.symbols('u v')\r\n",
    "\r\n",
    "H = sp.Matrix([[h11, h12, h13], [h21, h22, h23], [h31, h32, 1]])\r\n",
    "h = sp.Matrix([[h11, h12, h13, h21, h22, h23, h31, h32]]).T\r\n",
    "\r\n",
    "xy1 = sp.Matrix([[x, y, 1]]).T\r\n",
    "display(H)\r\n",
    "display(xy1)\r\n",
    "\r\n",
    "p = H*xy1\r\n",
    "\r\n",
    "display(p)\r\n",
    "\r\n",
    "# error_u = u - p[0]/p[2]\r\n",
    "# error_v = v - p[1]/p[2]\r\n",
    "\r\n",
    "# error_u' = u*p[2] - p[0]\r\n",
    "# error_v' = v*p[2] - p[1]\r\n",
    "\r\n",
    "error_u = u*p[2] - p[0]\r\n",
    "error_v = v*p[2] - p[1]\r\n",
    "\r\n",
    "display(error_u)\r\n",
    "display(error_v)\r\n",
    "\r\n",
    "error = sp.Matrix([[error_u], [error_v]])\r\n",
    "\r\n",
    "print('h vector')\r\n",
    "display(h)\r\n",
    "\r\n",
    "display(error)\r\n",
    "\r\n",
    "de_dh = sp.diff(error, h)\r\n",
    "# display(de_dh)\r\n",
    "\r\n",
    "A = sp.Matrix([[de_dh[0,0,0,0], de_dh[1,0,0,0], de_dh[2,0,0,0], de_dh[3,0,0,0], de_dh[4,0,0,0], de_dh[5,0,0,0], de_dh[6,0,0,0]],\r\n",
    "               [de_dh[0,0,1,0], de_dh[1,0,1,0], de_dh[2,0,1,0], de_dh[3,0,1,0], de_dh[4,0,1,0], de_dh[5,0,1,0], de_dh[6,0,1,0]]])\r\n",
    "\r\n",
    "print('A')\r\n",
    "display(A)\r\n",
    "print(sp.latex(A))\r\n",
    "\r\n",
    "b = -error.subs([(h11,0), (h12,0), (h13,0), (h21,0), (h22,0), (h23,0), (h31,0), (h32,0)])\r\n",
    "print('b')\r\n",
    "display(b)\r\n",
    "print(sp.latex(b))"
   ],
   "outputs": [
    {
     "output_type": "display_data",
     "data": {
      "text/latex": [
       "$\\displaystyle \\left[\\begin{matrix}h_{11} & h_{12} & h_{13}\\\\h_{21} & h_{22} & h_{23}\\\\h_{31} & h_{32} & 1\\end{matrix}\\right]$"
      ],
      "text/plain": [
       "Matrix([\n",
       "[h11, h12, h13],\n",
       "[h21, h22, h23],\n",
       "[h31, h32,   1]])"
      ]
     },
     "metadata": {}
    },
    {
     "output_type": "display_data",
     "data": {
      "text/latex": [
       "$\\displaystyle \\left[\\begin{matrix}x\\\\y\\\\1\\end{matrix}\\right]$"
      ],
      "text/plain": [
       "Matrix([\n",
       "[x],\n",
       "[y],\n",
       "[1]])"
      ]
     },
     "metadata": {}
    },
    {
     "output_type": "display_data",
     "data": {
      "text/latex": [
       "$\\displaystyle \\left[\\begin{matrix}h_{11} x + h_{12} y + h_{13}\\\\h_{21} x + h_{22} y + h_{23}\\\\h_{31} x + h_{32} y + 1\\end{matrix}\\right]$"
      ],
      "text/plain": [
       "Matrix([\n",
       "[h11*x + h12*y + h13],\n",
       "[h21*x + h22*y + h23],\n",
       "[  h31*x + h32*y + 1]])"
      ]
     },
     "metadata": {}
    },
    {
     "output_type": "display_data",
     "data": {
      "text/latex": [
       "$\\displaystyle - h_{11} x - h_{12} y - h_{13} + u \\left(h_{31} x + h_{32} y + 1\\right)$"
      ],
      "text/plain": [
       "-h11*x - h12*y - h13 + u*(h31*x + h32*y + 1)"
      ]
     },
     "metadata": {}
    },
    {
     "output_type": "display_data",
     "data": {
      "text/latex": [
       "$\\displaystyle - h_{21} x - h_{22} y - h_{23} + v \\left(h_{31} x + h_{32} y + 1\\right)$"
      ],
      "text/plain": [
       "-h21*x - h22*y - h23 + v*(h31*x + h32*y + 1)"
      ]
     },
     "metadata": {}
    },
    {
     "output_type": "stream",
     "name": "stdout",
     "text": [
      "h vector\n"
     ]
    },
    {
     "output_type": "display_data",
     "data": {
      "text/latex": [
       "$\\displaystyle \\left[\\begin{matrix}h_{11}\\\\h_{12}\\\\h_{13}\\\\h_{21}\\\\h_{22}\\\\h_{23}\\\\h_{31}\\\\h_{32}\\end{matrix}\\right]$"
      ],
      "text/plain": [
       "Matrix([\n",
       "[h11],\n",
       "[h12],\n",
       "[h13],\n",
       "[h21],\n",
       "[h22],\n",
       "[h23],\n",
       "[h31],\n",
       "[h32]])"
      ]
     },
     "metadata": {}
    },
    {
     "output_type": "display_data",
     "data": {
      "text/latex": [
       "$\\displaystyle \\left[\\begin{matrix}- h_{11} x - h_{12} y - h_{13} + u \\left(h_{31} x + h_{32} y + 1\\right)\\\\- h_{21} x - h_{22} y - h_{23} + v \\left(h_{31} x + h_{32} y + 1\\right)\\end{matrix}\\right]$"
      ],
      "text/plain": [
       "Matrix([\n",
       "[-h11*x - h12*y - h13 + u*(h31*x + h32*y + 1)],\n",
       "[-h21*x - h22*y - h23 + v*(h31*x + h32*y + 1)]])"
      ]
     },
     "metadata": {}
    },
    {
     "output_type": "stream",
     "name": "stdout",
     "text": [
      "A\n"
     ]
    },
    {
     "output_type": "display_data",
     "data": {
      "text/latex": [
       "$\\displaystyle \\left[\\begin{matrix}- x & - y & -1 & 0 & 0 & 0 & u x\\\\0 & 0 & 0 & - x & - y & -1 & v x\\end{matrix}\\right]$"
      ],
      "text/plain": [
       "Matrix([\n",
       "[-x, -y, -1,  0,  0,  0, u*x],\n",
       "[ 0,  0,  0, -x, -y, -1, v*x]])"
      ]
     },
     "metadata": {}
    },
    {
     "output_type": "stream",
     "name": "stdout",
     "text": [
      "\\left[\\begin{matrix}- x & - y & -1 & 0 & 0 & 0 & u x\\\\0 & 0 & 0 & - x & - y & -1 & v x\\end{matrix}\\right]\n",
      "b\n"
     ]
    },
    {
     "output_type": "display_data",
     "data": {
      "text/latex": [
       "$\\displaystyle \\left[\\begin{matrix}- u\\\\- v\\end{matrix}\\right]$"
      ],
      "text/plain": [
       "Matrix([\n",
       "[-u],\n",
       "[-v]])"
      ]
     },
     "metadata": {}
    },
    {
     "output_type": "stream",
     "name": "stdout",
     "text": [
      "\\left[\\begin{matrix}- u\\\\- v\\end{matrix}\\right]\n"
     ]
    }
   ],
   "metadata": {}
  }
 ],
 "metadata": {
  "orig_nbformat": 4,
  "language_info": {
   "name": "python",
   "version": "3.7.3",
   "mimetype": "text/x-python",
   "codemirror_mode": {
    "name": "ipython",
    "version": 3
   },
   "pygments_lexer": "ipython3",
   "nbconvert_exporter": "python",
   "file_extension": ".py"
  },
  "kernelspec": {
   "name": "python3",
   "display_name": "Python 3.7.3 64-bit"
  },
  "interpreter": {
   "hash": "04635d289a519a1410467dd0afb0db42f9184808881ca68b2eb5a687a20a5a94"
  }
 },
 "nbformat": 4,
 "nbformat_minor": 2
}