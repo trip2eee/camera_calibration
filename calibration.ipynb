{
 "cells": [
  {
   "cell_type": "markdown",
   "source": [
    "# Camera Calibration"
   ],
   "metadata": {}
  },
  {
   "cell_type": "markdown",
   "source": [
    "## Coordinate System"
   ],
   "metadata": {}
  },
  {
   "cell_type": "markdown",
   "source": [
    "This camera calibration follows the coordinate system below.\r\n",
    "\r\n",
    "x: World coordinate, longitudinal. Forward direction is positive.\r\n",
    "\r\n",
    "y: World coordinate, lateral. Leftward direction is positive.\r\n",
    "\r\n",
    "z: World coordinate, vertical. Upward direction is positive.\r\n",
    "\r\n",
    "u: Image coordinate, lateral. Rightward direction is positive.\r\n",
    "\r\n",
    "v: Image coordinate, vertical. Downward direction is positive.\r\n",
    "\r\n"
   ],
   "metadata": {}
  },
  {
   "cell_type": "markdown",
   "source": [
    "## Distortion Model"
   ],
   "metadata": {}
  },
  {
   "cell_type": "markdown",
   "source": [
    "This camera calibration takes only barrel distortion parameters $\\left( \\kappa_1, \\kappa_2, \\kappa_3, \\kappa_4, \\kappa_5, \\kappa_6 \\right)$ into account.\r\n",
    "\r\n",
    "Let $\\left( u, v \\right)$ be a point in undistorted image. Then the undistorted point is normalized as follows.\r\n",
    "\r\n",
    "$$ \\bar{u} = \\frac{u - cu}{f_u} $$\r\n",
    "\r\n",
    "$$ \\bar{v} = \\frac{v - cv}{f_v} $$\r\n",
    "\r\n",
    "$$ r^2 = \\bar{u}^2 + \\bar{v}^2 $$\r\n",
    "\r\n",
    "The ratio of distortion with respect to radial radius from the image center $\\left( cu, cv \\right)$ is computed.\r\n",
    "\r\n",
    "$$ ratio = \\frac{1.0 + \\kappa_1 r^2 + \\kappa_2 r^4 \\kappa_3 r^6} {1.0 + \\kappa_4 r^2 + \\kappa_5 r^4 \\kappa_6 r^6} $$\r\n",
    "\r\n",
    "The corresponding point in distorted image $\\left( u_d, v_d \\right)$ is computed as follows.\r\n",
    "\r\n",
    "$$ u_d = f_u \\cdot ratio \\cdot \\bar{u} + cu $$\r\n",
    "\r\n",
    "$$ u_v = f_v \\cdot ratio \\cdot \\bar{v} + cv $$"
   ],
   "metadata": {}
  },
  {
   "cell_type": "markdown",
   "source": [
    "## Homography Matrix"
   ],
   "metadata": {}
  },
  {
   "cell_type": "markdown",
   "source": [
    "The homography matrix is defined as follows.\r\n",
    "\r\n",
    "$$ H = K \\cdot P \\cdot \\begin{bmatrix} R & R\\cdot t \\end{bmatrix}$$\r\n",
    "\r\n",
    "where \r\n",
    "\r\n",
    "$$ K = \\begin{bmatrix} f_u & 0 & cu \\\\ 0 & f_v & cv \\\\ 0 & 0 & 1 \\end{bmatrix} $$\r\n",
    "\r\n",
    "$$ P = \\begin{bmatrix} 0 & -1 & 0 \\\\ 0 & 0 & -1 \\\\ 1 & 0 & 0 \\end{bmatrix} $$\r\n",
    "\r\n",
    "$$ R = R_z R_y R_x $$\r\n",
    "\r\n",
    "$$ t = \\begin{bmatrix} t_x \\\\ t_y \\\\ t_z \\end{bmatrix} $$"
   ],
   "metadata": {}
  },
  {
   "cell_type": "markdown",
   "source": [
    "## Initial value"
   ],
   "metadata": {}
  },
  {
   "cell_type": "markdown",
   "source": [
    "The homography matrix is 3x4 matrix in which intrinsic camera parameters and extrinsic camera parameters cannot be linearly separated. To solve these parameters, initial values of the parameters are computed with the following assumption. Then these values will be refined by non-linear optimization.\r\n",
    "\r\n",
    "The assumptions are as follows.\r\n",
    "- Camera image has no distortion i.e. $\\left( \\kappa_n = 0 \\right)$.\r\n",
    "- $\\left(cu, cv \\right)$ is at the axact center of the image.\r\n",
    "- Angle of camera is small enough to apply small angle approximation."
   ],
   "metadata": {}
  },
  {
   "cell_type": "code",
   "execution_count": 23,
   "source": [
    "\"\"\"\r\n",
    "Direct Linear Transform for computing initial values.\r\n",
    "\"\"\"\r\n",
    "import sympy as sp\r\n",
    "from IPython.display import display\r\n",
    "\r\n",
    "roll, pitch, yaw = sp.symbols('roll pitch yaw')\r\n",
    "tx, ty, tz = sp.symbols('tx ty tz')\r\n",
    "fu, fv, cu, cv = sp.symbols('fu fv cu cv')\r\n",
    "\r\n",
    "cosr = 1.0  #sp.cos(roll)\r\n",
    "sinr = roll #sp.sin(roll)\r\n",
    "Rx = sp.Matrix([[1, 0,     0,  ],\r\n",
    "                [0, cosr, -sinr],\r\n",
    "                [0, sinr,  cosr]])\r\n",
    "\r\n",
    "# pitch\r\n",
    "cosp = 1.0   #sp.cos(pitch)\r\n",
    "sinp = pitch #sp.sin(pitch)\r\n",
    "Ry = sp.Matrix([[cosp,  0, sinp],\r\n",
    "                [0,     1,    0],\r\n",
    "                [-sinp, 0, cosp]])\r\n",
    "\r\n",
    "# yaw\r\n",
    "cosy = 1.0  #sp.cos(yaw)\r\n",
    "siny = yaw  #sp.sin(yaw)\r\n",
    "Rz = sp.Matrix([[cosy, -siny, 0],\r\n",
    "                [siny,  cosy, 0],\r\n",
    "                [0,        0, 1]])\r\n",
    "\r\n",
    "# translation\r\n",
    "T = sp.Matrix([[1, 0, 0, tx],\r\n",
    "               [0, 1, 0, ty],\r\n",
    "               [0, 0, 1, tz]])\r\n",
    "\r\n",
    "# intrinsic camera parameter matrix\r\n",
    "K = sp.Matrix([[fu, 0,  cu],\r\n",
    "               [0,  fv, cv],\r\n",
    "               [0,  0,  1,]])\r\n",
    "\r\n",
    "# permutation matrix\r\n",
    "P = sp.Matrix([[0, -1,  0],\r\n",
    "               [0,  0, -1],\r\n",
    "               [1,  0,  0]])\r\n",
    "\r\n",
    "\r\n",
    "# R = Rz*Ry*Rx\r\n",
    "# print('rotation matrix with small angle approximation')\r\n",
    "# display(R)\r\n",
    "\r\n",
    "\r\n",
    "R = sp.Matrix([[1.0, -yaw, pitch],\r\n",
    "               [yaw, 1.0, -roll],\r\n",
    "               [-pitch, roll, 1.0]])\r\n",
    "# print('rotation matrix with small angle approximation 2')\r\n",
    "# display(R)\r\n",
    "\r\n",
    "RT = R*T\r\n",
    "\r\n",
    "H  = K * P * RT\r\n",
    "display(H)\r\n",
    "\r\n",
    "#sp.latex(H)\r\n",
    "\r\n",
    "H3 = H[:,3]\r\n",
    "h3_dx = H3.diff(tx)\r\n",
    "display(h3_dx)\r\n",
    "h3_dy = H3.diff(ty)\r\n",
    "display(h3_dy)\r\n",
    "h3_dz = H3.diff(tz)\r\n",
    "display(h3_dz)\r\n"
   ],
   "outputs": [
    {
     "output_type": "display_data",
     "data": {
      "text/latex": [
       "$\\displaystyle \\left[\\begin{matrix}1.0 cu - fu yaw & - cu yaw - 1.0 fu & cu pitch + fu roll & cu \\left(pitch tz + 1.0 tx - ty yaw\\right) - fu \\left(- roll tz + tx yaw + 1.0 ty\\right)\\\\1.0 cv + fv pitch & - cv yaw - fv roll & cv pitch - 1.0 fv & cv \\left(pitch tz + 1.0 tx - ty yaw\\right) - fv \\left(- pitch tx + roll ty + 1.0 tz\\right)\\\\1.0 & - yaw & pitch & pitch tz + 1.0 tx - ty yaw\\end{matrix}\\right]$"
      ],
      "text/plain": [
       "Matrix([\n",
       "[  1.0*cu - fu*yaw,  -cu*yaw - 1.0*fu, cu*pitch + fu*roll,   cu*(pitch*tz + 1.0*tx - ty*yaw) - fu*(-roll*tz + tx*yaw + 1.0*ty)],\n",
       "[1.0*cv + fv*pitch, -cv*yaw - fv*roll,  cv*pitch - 1.0*fv, cv*(pitch*tz + 1.0*tx - ty*yaw) - fv*(-pitch*tx + roll*ty + 1.0*tz)],\n",
       "[              1.0,              -yaw,              pitch,                                          pitch*tz + 1.0*tx - ty*yaw]])"
      ]
     },
     "metadata": {}
    },
    {
     "output_type": "display_data",
     "data": {
      "text/latex": [
       "$\\displaystyle \\left[\\begin{matrix}1.0 cu - fu yaw\\\\1.0 cv + fv pitch\\\\1.0\\end{matrix}\\right]$"
      ],
      "text/plain": [
       "Matrix([\n",
       "[  1.0*cu - fu*yaw],\n",
       "[1.0*cv + fv*pitch],\n",
       "[              1.0]])"
      ]
     },
     "metadata": {}
    },
    {
     "output_type": "display_data",
     "data": {
      "text/latex": [
       "$\\displaystyle \\left[\\begin{matrix}- cu yaw - 1.0 fu\\\\- cv yaw - fv roll\\\\- yaw\\end{matrix}\\right]$"
      ],
      "text/plain": [
       "Matrix([\n",
       "[ -cu*yaw - 1.0*fu],\n",
       "[-cv*yaw - fv*roll],\n",
       "[             -yaw]])"
      ]
     },
     "metadata": {}
    },
    {
     "output_type": "display_data",
     "data": {
      "text/latex": [
       "$\\displaystyle \\left[\\begin{matrix}cu pitch + fu roll\\\\cv pitch - 1.0 fv\\\\pitch\\end{matrix}\\right]$"
      ],
      "text/plain": [
       "Matrix([\n",
       "[cu*pitch + fu*roll],\n",
       "[ cv*pitch - 1.0*fv],\n",
       "[             pitch]])"
      ]
     },
     "metadata": {}
    }
   ],
   "metadata": {}
  },
  {
   "cell_type": "markdown",
   "source": [
    "From the approximated homography equation, initial guess of parameters can be obtained as follows.\r\n",
    "\r\n",
    "$$ H = \\begin{bmatrix} h_{00} & h_{01} & h_{02} & h_{03} \\\\ h_{10} & h_{11} & h_{12} & h_{13} \\\\ 1 & h_{21} & h_{22} & h_{23} \\end{bmatrix} $$\r\n",
    "\r\n",
    "$$ cu = 0.5 \\cdot width $$\r\n",
    "\r\n",
    "$$ cv = 0.5 \\cdot height $$\r\n",
    "\r\n",
    "$$ yaw = -h_{21} $$\r\n",
    "\r\n",
    "$$ pitch = h_{22} $$\r\n",
    "\r\n",
    "$$ fu = -\\frac{f_{00} - cu}{yaw} $$\r\n",
    "\r\n",
    "$$ fv = -\\frac{f_{10} - cv}{pitch} $$\r\n",
    "\r\n",
    "$$ roll = \\frac{h_{02} - cu \\cdot pitch}{fu} $$\r\n",
    "\r\n",
    "Note that pitch and yaw angle must not be zeros.\r\n",
    "\r\n",
    "Translation vector can be obtained by the simultaneous equations\r\n",
    "\r\n",
    "$$ \\begin{bmatrix} cu - f_u \\cdot yaw & -cu \\cdot yaw - fu & cu \\cdot pitch + f_u \\cdot roll \\\\ cv + f_v \\cdot pitch & -cv \\cdot yaw - f_v \\cdot roll & cv \\cdot pitch - f_v \\\\ 1.0 & -yaw & pitch \\end{bmatrix} \\begin{bmatrix}t_x \\\\ t_y \\\\ t_z\\end{bmatrix} = \\begin{bmatrix}h_{03} \\\\ h_{13} \\\\ h_{23} \\end{bmatrix} $$"
   ],
   "metadata": {}
  },
  {
   "cell_type": "markdown",
   "source": [
    "## Direct Linear Transform"
   ],
   "metadata": {}
  },
  {
   "cell_type": "code",
   "execution_count": 24,
   "source": [
    "import sympy as sp\r\n",
    "from IPython.display import display\r\n",
    "\r\n",
    "roll, pitch, yaw = sp.symbols('roll pitch yaw')\r\n",
    "tx, ty, tz = sp.symbols('tx ty tz')\r\n",
    "fu, fv, cu, cv = sp.symbols('fu fv cu cv')\r\n",
    "\r\n",
    "cosr = sp.cos(roll)\r\n",
    "sinr = sp.sin(roll)\r\n",
    "Rx = sp.Matrix([[1, 0,     0,  ],\r\n",
    "                [0, cosr, -sinr],\r\n",
    "                [0, sinr,  cosr]])\r\n",
    "\r\n",
    "# pitch\r\n",
    "cosp = sp.cos(pitch)\r\n",
    "sinp = sp.sin(pitch)\r\n",
    "Ry = sp.Matrix([[cosp,  0, sinp],\r\n",
    "                [0,     1,    0],\r\n",
    "                [-sinp, 0, cosp]])\r\n",
    "\r\n",
    "# yaw\r\n",
    "cosy = sp.cos(yaw)\r\n",
    "siny = sp.sin(yaw)\r\n",
    "Rz = sp.Matrix([[cosy, -siny, 0],\r\n",
    "                [siny,  cosy, 0],\r\n",
    "                [0,        0, 1]])\r\n",
    "\r\n",
    "# translation\r\n",
    "T = sp.Matrix([[1, 0, 0, tx],\r\n",
    "               [0, 1, 0, ty],\r\n",
    "               [0, 0, 1, tz]])\r\n",
    "\r\n",
    "# intrinsic camera parameter matrix\r\n",
    "K = sp.Matrix([[fu, 0,  cu],\r\n",
    "               [0,  fv, cv],\r\n",
    "               [0,  0,  1,]])\r\n",
    "\r\n",
    "# permutation matrix\r\n",
    "P = sp.Matrix([[0, -1,  0],\r\n",
    "               [0,  0, -1],\r\n",
    "               [1,  0,  0]])\r\n",
    "\r\n",
    "\r\n",
    "R = Rz*Ry*Rx\r\n",
    "display(R)\r\n",
    "\r\n",
    "RT = R*T\r\n",
    "display(RT)\r\n",
    "\r\n",
    "H  = K * P * RT\r\n",
    "display(H)"
   ],
   "outputs": [
    {
     "output_type": "display_data",
     "data": {
      "text/latex": [
       "$\\displaystyle \\left[\\begin{matrix}\\cos{\\left(pitch \\right)} \\cos{\\left(yaw \\right)} & \\sin{\\left(pitch \\right)} \\sin{\\left(roll \\right)} \\cos{\\left(yaw \\right)} - \\sin{\\left(yaw \\right)} \\cos{\\left(roll \\right)} & \\sin{\\left(pitch \\right)} \\cos{\\left(roll \\right)} \\cos{\\left(yaw \\right)} + \\sin{\\left(roll \\right)} \\sin{\\left(yaw \\right)}\\\\\\sin{\\left(yaw \\right)} \\cos{\\left(pitch \\right)} & \\sin{\\left(pitch \\right)} \\sin{\\left(roll \\right)} \\sin{\\left(yaw \\right)} + \\cos{\\left(roll \\right)} \\cos{\\left(yaw \\right)} & \\sin{\\left(pitch \\right)} \\sin{\\left(yaw \\right)} \\cos{\\left(roll \\right)} - \\sin{\\left(roll \\right)} \\cos{\\left(yaw \\right)}\\\\- \\sin{\\left(pitch \\right)} & \\sin{\\left(roll \\right)} \\cos{\\left(pitch \\right)} & \\cos{\\left(pitch \\right)} \\cos{\\left(roll \\right)}\\end{matrix}\\right]$"
      ],
      "text/plain": [
       "Matrix([\n",
       "[cos(pitch)*cos(yaw), sin(pitch)*sin(roll)*cos(yaw) - sin(yaw)*cos(roll), sin(pitch)*cos(roll)*cos(yaw) + sin(roll)*sin(yaw)],\n",
       "[sin(yaw)*cos(pitch), sin(pitch)*sin(roll)*sin(yaw) + cos(roll)*cos(yaw), sin(pitch)*sin(yaw)*cos(roll) - sin(roll)*cos(yaw)],\n",
       "[        -sin(pitch),                               sin(roll)*cos(pitch),                               cos(pitch)*cos(roll)]])"
      ]
     },
     "metadata": {}
    },
    {
     "output_type": "display_data",
     "data": {
      "text/latex": [
       "$\\displaystyle \\left[\\begin{matrix}\\cos{\\left(pitch \\right)} \\cos{\\left(yaw \\right)} & \\sin{\\left(pitch \\right)} \\sin{\\left(roll \\right)} \\cos{\\left(yaw \\right)} - \\sin{\\left(yaw \\right)} \\cos{\\left(roll \\right)} & \\sin{\\left(pitch \\right)} \\cos{\\left(roll \\right)} \\cos{\\left(yaw \\right)} + \\sin{\\left(roll \\right)} \\sin{\\left(yaw \\right)} & tx \\cos{\\left(pitch \\right)} \\cos{\\left(yaw \\right)} + ty \\left(\\sin{\\left(pitch \\right)} \\sin{\\left(roll \\right)} \\cos{\\left(yaw \\right)} - \\sin{\\left(yaw \\right)} \\cos{\\left(roll \\right)}\\right) + tz \\left(\\sin{\\left(pitch \\right)} \\cos{\\left(roll \\right)} \\cos{\\left(yaw \\right)} + \\sin{\\left(roll \\right)} \\sin{\\left(yaw \\right)}\\right)\\\\\\sin{\\left(yaw \\right)} \\cos{\\left(pitch \\right)} & \\sin{\\left(pitch \\right)} \\sin{\\left(roll \\right)} \\sin{\\left(yaw \\right)} + \\cos{\\left(roll \\right)} \\cos{\\left(yaw \\right)} & \\sin{\\left(pitch \\right)} \\sin{\\left(yaw \\right)} \\cos{\\left(roll \\right)} - \\sin{\\left(roll \\right)} \\cos{\\left(yaw \\right)} & tx \\sin{\\left(yaw \\right)} \\cos{\\left(pitch \\right)} + ty \\left(\\sin{\\left(pitch \\right)} \\sin{\\left(roll \\right)} \\sin{\\left(yaw \\right)} + \\cos{\\left(roll \\right)} \\cos{\\left(yaw \\right)}\\right) + tz \\left(\\sin{\\left(pitch \\right)} \\sin{\\left(yaw \\right)} \\cos{\\left(roll \\right)} - \\sin{\\left(roll \\right)} \\cos{\\left(yaw \\right)}\\right)\\\\- \\sin{\\left(pitch \\right)} & \\sin{\\left(roll \\right)} \\cos{\\left(pitch \\right)} & \\cos{\\left(pitch \\right)} \\cos{\\left(roll \\right)} & - tx \\sin{\\left(pitch \\right)} + ty \\sin{\\left(roll \\right)} \\cos{\\left(pitch \\right)} + tz \\cos{\\left(pitch \\right)} \\cos{\\left(roll \\right)}\\end{matrix}\\right]$"
      ],
      "text/plain": [
       "Matrix([\n",
       "[cos(pitch)*cos(yaw), sin(pitch)*sin(roll)*cos(yaw) - sin(yaw)*cos(roll), sin(pitch)*cos(roll)*cos(yaw) + sin(roll)*sin(yaw), tx*cos(pitch)*cos(yaw) + ty*(sin(pitch)*sin(roll)*cos(yaw) - sin(yaw)*cos(roll)) + tz*(sin(pitch)*cos(roll)*cos(yaw) + sin(roll)*sin(yaw))],\n",
       "[sin(yaw)*cos(pitch), sin(pitch)*sin(roll)*sin(yaw) + cos(roll)*cos(yaw), sin(pitch)*sin(yaw)*cos(roll) - sin(roll)*cos(yaw), tx*sin(yaw)*cos(pitch) + ty*(sin(pitch)*sin(roll)*sin(yaw) + cos(roll)*cos(yaw)) + tz*(sin(pitch)*sin(yaw)*cos(roll) - sin(roll)*cos(yaw))],\n",
       "[        -sin(pitch),                               sin(roll)*cos(pitch),                               cos(pitch)*cos(roll),                                                                         -tx*sin(pitch) + ty*sin(roll)*cos(pitch) + tz*cos(pitch)*cos(roll)]])"
      ]
     },
     "metadata": {}
    },
    {
     "output_type": "display_data",
     "data": {
      "text/latex": [
       "$\\displaystyle \\left[\\begin{matrix}cu \\cos{\\left(pitch \\right)} \\cos{\\left(yaw \\right)} - fu \\sin{\\left(yaw \\right)} \\cos{\\left(pitch \\right)} & cu \\left(\\sin{\\left(pitch \\right)} \\sin{\\left(roll \\right)} \\cos{\\left(yaw \\right)} - \\sin{\\left(yaw \\right)} \\cos{\\left(roll \\right)}\\right) - fu \\left(\\sin{\\left(pitch \\right)} \\sin{\\left(roll \\right)} \\sin{\\left(yaw \\right)} + \\cos{\\left(roll \\right)} \\cos{\\left(yaw \\right)}\\right) & cu \\left(\\sin{\\left(pitch \\right)} \\cos{\\left(roll \\right)} \\cos{\\left(yaw \\right)} + \\sin{\\left(roll \\right)} \\sin{\\left(yaw \\right)}\\right) - fu \\left(\\sin{\\left(pitch \\right)} \\sin{\\left(yaw \\right)} \\cos{\\left(roll \\right)} - \\sin{\\left(roll \\right)} \\cos{\\left(yaw \\right)}\\right) & cu \\left(tx \\cos{\\left(pitch \\right)} \\cos{\\left(yaw \\right)} + ty \\left(\\sin{\\left(pitch \\right)} \\sin{\\left(roll \\right)} \\cos{\\left(yaw \\right)} - \\sin{\\left(yaw \\right)} \\cos{\\left(roll \\right)}\\right) + tz \\left(\\sin{\\left(pitch \\right)} \\cos{\\left(roll \\right)} \\cos{\\left(yaw \\right)} + \\sin{\\left(roll \\right)} \\sin{\\left(yaw \\right)}\\right)\\right) - fu \\left(tx \\sin{\\left(yaw \\right)} \\cos{\\left(pitch \\right)} + ty \\left(\\sin{\\left(pitch \\right)} \\sin{\\left(roll \\right)} \\sin{\\left(yaw \\right)} + \\cos{\\left(roll \\right)} \\cos{\\left(yaw \\right)}\\right) + tz \\left(\\sin{\\left(pitch \\right)} \\sin{\\left(yaw \\right)} \\cos{\\left(roll \\right)} - \\sin{\\left(roll \\right)} \\cos{\\left(yaw \\right)}\\right)\\right)\\\\cv \\cos{\\left(pitch \\right)} \\cos{\\left(yaw \\right)} + fv \\sin{\\left(pitch \\right)} & cv \\left(\\sin{\\left(pitch \\right)} \\sin{\\left(roll \\right)} \\cos{\\left(yaw \\right)} - \\sin{\\left(yaw \\right)} \\cos{\\left(roll \\right)}\\right) - fv \\sin{\\left(roll \\right)} \\cos{\\left(pitch \\right)} & cv \\left(\\sin{\\left(pitch \\right)} \\cos{\\left(roll \\right)} \\cos{\\left(yaw \\right)} + \\sin{\\left(roll \\right)} \\sin{\\left(yaw \\right)}\\right) - fv \\cos{\\left(pitch \\right)} \\cos{\\left(roll \\right)} & cv \\left(tx \\cos{\\left(pitch \\right)} \\cos{\\left(yaw \\right)} + ty \\left(\\sin{\\left(pitch \\right)} \\sin{\\left(roll \\right)} \\cos{\\left(yaw \\right)} - \\sin{\\left(yaw \\right)} \\cos{\\left(roll \\right)}\\right) + tz \\left(\\sin{\\left(pitch \\right)} \\cos{\\left(roll \\right)} \\cos{\\left(yaw \\right)} + \\sin{\\left(roll \\right)} \\sin{\\left(yaw \\right)}\\right)\\right) - fv \\left(- tx \\sin{\\left(pitch \\right)} + ty \\sin{\\left(roll \\right)} \\cos{\\left(pitch \\right)} + tz \\cos{\\left(pitch \\right)} \\cos{\\left(roll \\right)}\\right)\\\\\\cos{\\left(pitch \\right)} \\cos{\\left(yaw \\right)} & \\sin{\\left(pitch \\right)} \\sin{\\left(roll \\right)} \\cos{\\left(yaw \\right)} - \\sin{\\left(yaw \\right)} \\cos{\\left(roll \\right)} & \\sin{\\left(pitch \\right)} \\cos{\\left(roll \\right)} \\cos{\\left(yaw \\right)} + \\sin{\\left(roll \\right)} \\sin{\\left(yaw \\right)} & tx \\cos{\\left(pitch \\right)} \\cos{\\left(yaw \\right)} + ty \\left(\\sin{\\left(pitch \\right)} \\sin{\\left(roll \\right)} \\cos{\\left(yaw \\right)} - \\sin{\\left(yaw \\right)} \\cos{\\left(roll \\right)}\\right) + tz \\left(\\sin{\\left(pitch \\right)} \\cos{\\left(roll \\right)} \\cos{\\left(yaw \\right)} + \\sin{\\left(roll \\right)} \\sin{\\left(yaw \\right)}\\right)\\end{matrix}\\right]$"
      ],
      "text/plain": [
       "Matrix([\n",
       "[cu*cos(pitch)*cos(yaw) - fu*sin(yaw)*cos(pitch), cu*(sin(pitch)*sin(roll)*cos(yaw) - sin(yaw)*cos(roll)) - fu*(sin(pitch)*sin(roll)*sin(yaw) + cos(roll)*cos(yaw)), cu*(sin(pitch)*cos(roll)*cos(yaw) + sin(roll)*sin(yaw)) - fu*(sin(pitch)*sin(yaw)*cos(roll) - sin(roll)*cos(yaw)), cu*(tx*cos(pitch)*cos(yaw) + ty*(sin(pitch)*sin(roll)*cos(yaw) - sin(yaw)*cos(roll)) + tz*(sin(pitch)*cos(roll)*cos(yaw) + sin(roll)*sin(yaw))) - fu*(tx*sin(yaw)*cos(pitch) + ty*(sin(pitch)*sin(roll)*sin(yaw) + cos(roll)*cos(yaw)) + tz*(sin(pitch)*sin(yaw)*cos(roll) - sin(roll)*cos(yaw)))],\n",
       "[         cv*cos(pitch)*cos(yaw) + fv*sin(pitch),                                 cv*(sin(pitch)*sin(roll)*cos(yaw) - sin(yaw)*cos(roll)) - fv*sin(roll)*cos(pitch),                                 cv*(sin(pitch)*cos(roll)*cos(yaw) + sin(roll)*sin(yaw)) - fv*cos(pitch)*cos(roll),                                                                         cv*(tx*cos(pitch)*cos(yaw) + ty*(sin(pitch)*sin(roll)*cos(yaw) - sin(yaw)*cos(roll)) + tz*(sin(pitch)*cos(roll)*cos(yaw) + sin(roll)*sin(yaw))) - fv*(-tx*sin(pitch) + ty*sin(roll)*cos(pitch) + tz*cos(pitch)*cos(roll))],\n",
       "[                            cos(pitch)*cos(yaw),                                                                sin(pitch)*sin(roll)*cos(yaw) - sin(yaw)*cos(roll),                                                                sin(pitch)*cos(roll)*cos(yaw) + sin(roll)*sin(yaw),                                                                                                                                                        tx*cos(pitch)*cos(yaw) + ty*(sin(pitch)*sin(roll)*cos(yaw) - sin(yaw)*cos(roll)) + tz*(sin(pitch)*cos(roll)*cos(yaw) + sin(roll)*sin(yaw))]])"
      ]
     },
     "metadata": {}
    }
   ],
   "metadata": {}
  },
  {
   "cell_type": "code",
   "execution_count": null,
   "source": [],
   "outputs": [],
   "metadata": {}
  }
 ],
 "metadata": {
  "orig_nbformat": 4,
  "language_info": {
   "name": "python",
   "version": "3.7.3",
   "mimetype": "text/x-python",
   "codemirror_mode": {
    "name": "ipython",
    "version": 3
   },
   "pygments_lexer": "ipython3",
   "nbconvert_exporter": "python",
   "file_extension": ".py"
  },
  "kernelspec": {
   "name": "python3",
   "display_name": "Python 3.7.3 64-bit"
  },
  "interpreter": {
   "hash": "04635d289a519a1410467dd0afb0db42f9184808881ca68b2eb5a687a20a5a94"
  }
 },
 "nbformat": 4,
 "nbformat_minor": 2
}