{
 "cells": [
  {
   "cell_type": "markdown",
   "source": [
    "# Initial value"
   ],
   "metadata": {}
  },
  {
   "cell_type": "code",
   "execution_count": 54,
   "source": [
    "import sympy as sp\r\n",
    "from IPython.display import display\r\n",
    "\r\n",
    "\r\n",
    "fu, fv, cu, cv = sp.symbols('f_u f_v cu cv')\r\n",
    "\r\n",
    "b_11, b_13, b_22, b_23, b_33 = sp.symbols('b_11 b_13 b_22 b_23 b_33')\r\n",
    "\r\n",
    "h_11, h_21, h_31 = sp.symbols('h_11 h_21 h_31')\r\n",
    "h_12, h_22, h_32 = sp.symbols('h_12 h_22 h_32')\r\n",
    "\r\n",
    "K = sp.Matrix([[fu, 0, cu],\r\n",
    "               [0, fv, cv],\r\n",
    "               [0, 0, 1]])\r\n",
    "\r\n",
    "display(K)\r\n",
    "\r\n",
    "invK = K.inv()\r\n",
    "display(invK)\r\n",
    "\r\n",
    "invK2 = (invK.T * invK)\r\n",
    "display(invK2)\r\n",
    "print(sp.latex(invK2))\r\n",
    "\r\n",
    "h1 = sp.Matrix([[h_11], [h_21], [h_31]])\r\n",
    "\r\n",
    "h2 = sp.Matrix([[h_12], [h_22], [h_32]])\r\n",
    "\r\n",
    "display(h1)\r\n",
    "display(h2)\r\n",
    "\r\n",
    "\r\n",
    "B = sp.Matrix([[b_11, 0, b_13], [0, b_22, b_23], [b_13, b_23, b_33]])\r\n",
    "display(B)\r\n",
    "\r\n",
    "t1 = h1.T * B * h2\r\n",
    "display(t1)\r\n",
    "\r\n",
    "t2 = (h1.T * B * h1) - (h2.T * B * h2)\r\n",
    "display(t2)\r\n",
    "\r\n",
    "print('b')\r\n",
    "b = sp.Matrix([[b_11, b_13, b_22, b_23, b_33]]).T\r\n",
    "display(b)\r\n",
    "print(sp.latex(b))\r\n",
    "\r\n",
    "print('dt1_db')\r\n",
    "dt1_db = sp.diff(t1, b)\r\n",
    "v1 = sp.Matrix([dt1_db[0,0,0], dt1_db[1,0,0], dt1_db[2,0,0], dt1_db[3,0,0], dt1_db[4,0,0]]).T\r\n",
    "display(v1)\r\n",
    "\r\n",
    "\r\n",
    "print('dt2_db')\r\n",
    "dt2_db = sp.diff(t2, b)\r\n",
    "v2 = sp.Matrix([dt2_db[0,0,0], dt2_db[1,0,0], dt2_db[2,0,0], dt2_db[3,0,0], dt2_db[4,0,0]]).T\r\n",
    "display(v2)\r\n",
    "\r\n",
    "print('v')\r\n",
    "v = v1\r\n",
    "v = v.col_join(v2)\r\n",
    "display(v)\r\n",
    "print(sp.latex(v))\r\n"
   ],
   "outputs": [
    {
     "output_type": "display_data",
     "data": {
      "text/latex": [
       "$\\displaystyle \\left[\\begin{matrix}f_{u} & 0 & cu\\\\0 & f_{v} & cv\\\\0 & 0 & 1\\end{matrix}\\right]$"
      ],
      "text/plain": [
       "Matrix([\n",
       "[f_u,   0, cu],\n",
       "[  0, f_v, cv],\n",
       "[  0,   0,  1]])"
      ]
     },
     "metadata": {}
    },
    {
     "output_type": "display_data",
     "data": {
      "text/latex": [
       "$\\displaystyle \\left[\\begin{matrix}\\frac{1}{f_{u}} & 0 & - \\frac{cu}{f_{u}}\\\\0 & \\frac{1}{f_{v}} & - \\frac{cv}{f_{v}}\\\\0 & 0 & 1\\end{matrix}\\right]$"
      ],
      "text/plain": [
       "Matrix([\n",
       "[1/f_u,     0, -cu/f_u],\n",
       "[    0, 1/f_v, -cv/f_v],\n",
       "[    0,     0,       1]])"
      ]
     },
     "metadata": {}
    },
    {
     "output_type": "display_data",
     "data": {
      "text/latex": [
       "$\\displaystyle \\left[\\begin{matrix}\\frac{1}{f_{u}^{2}} & 0 & - \\frac{cu}{f_{u}^{2}}\\\\0 & \\frac{1}{f_{v}^{2}} & - \\frac{cv}{f_{v}^{2}}\\\\- \\frac{cu}{f_{u}^{2}} & - \\frac{cv}{f_{v}^{2}} & \\frac{cu^{2}}{f_{u}^{2}} + \\frac{cv^{2}}{f_{v}^{2}} + 1\\end{matrix}\\right]$"
      ],
      "text/plain": [
       "Matrix([\n",
       "[ f_u**(-2),          0,                      -cu/f_u**2],\n",
       "[         0,  f_v**(-2),                      -cv/f_v**2],\n",
       "[-cu/f_u**2, -cv/f_v**2, cu**2/f_u**2 + cv**2/f_v**2 + 1]])"
      ]
     },
     "metadata": {}
    },
    {
     "output_type": "stream",
     "name": "stdout",
     "text": [
      "\\left[\\begin{matrix}\\frac{1}{f_{u}^{2}} & 0 & - \\frac{cu}{f_{u}^{2}}\\\\0 & \\frac{1}{f_{v}^{2}} & - \\frac{cv}{f_{v}^{2}}\\\\- \\frac{cu}{f_{u}^{2}} & - \\frac{cv}{f_{v}^{2}} & \\frac{cu^{2}}{f_{u}^{2}} + \\frac{cv^{2}}{f_{v}^{2}} + 1\\end{matrix}\\right]\n"
     ]
    },
    {
     "output_type": "display_data",
     "data": {
      "text/latex": [
       "$\\displaystyle \\left[\\begin{matrix}h_{11}\\\\h_{21}\\\\h_{31}\\end{matrix}\\right]$"
      ],
      "text/plain": [
       "Matrix([\n",
       "[h_11],\n",
       "[h_21],\n",
       "[h_31]])"
      ]
     },
     "metadata": {}
    },
    {
     "output_type": "display_data",
     "data": {
      "text/latex": [
       "$\\displaystyle \\left[\\begin{matrix}h_{12}\\\\h_{22}\\\\h_{32}\\end{matrix}\\right]$"
      ],
      "text/plain": [
       "Matrix([\n",
       "[h_12],\n",
       "[h_22],\n",
       "[h_32]])"
      ]
     },
     "metadata": {}
    },
    {
     "output_type": "display_data",
     "data": {
      "text/latex": [
       "$\\displaystyle \\left[\\begin{matrix}b_{11} & 0 & b_{13}\\\\0 & b_{22} & b_{23}\\\\b_{13} & b_{23} & b_{33}\\end{matrix}\\right]$"
      ],
      "text/plain": [
       "Matrix([\n",
       "[b_11,    0, b_13],\n",
       "[   0, b_22, b_23],\n",
       "[b_13, b_23, b_33]])"
      ]
     },
     "metadata": {}
    },
    {
     "output_type": "display_data",
     "data": {
      "text/latex": [
       "$\\displaystyle \\left[\\begin{matrix}h_{12} \\left(b_{11} h_{11} + b_{13} h_{31}\\right) + h_{22} \\left(b_{22} h_{21} + b_{23} h_{31}\\right) + h_{32} \\left(b_{13} h_{11} + b_{23} h_{21} + b_{33} h_{31}\\right)\\end{matrix}\\right]$"
      ],
      "text/plain": [
       "Matrix([[h_12*(b_11*h_11 + b_13*h_31) + h_22*(b_22*h_21 + b_23*h_31) + h_32*(b_13*h_11 + b_23*h_21 + b_33*h_31)]])"
      ]
     },
     "metadata": {}
    },
    {
     "output_type": "display_data",
     "data": {
      "text/latex": [
       "$\\displaystyle \\left[\\begin{matrix}h_{11} \\left(b_{11} h_{11} + b_{13} h_{31}\\right) - h_{12} \\left(b_{11} h_{12} + b_{13} h_{32}\\right) + h_{21} \\left(b_{22} h_{21} + b_{23} h_{31}\\right) - h_{22} \\left(b_{22} h_{22} + b_{23} h_{32}\\right) + h_{31} \\left(b_{13} h_{11} + b_{23} h_{21} + b_{33} h_{31}\\right) - h_{32} \\left(b_{13} h_{12} + b_{23} h_{22} + b_{33} h_{32}\\right)\\end{matrix}\\right]$"
      ],
      "text/plain": [
       "Matrix([[h_11*(b_11*h_11 + b_13*h_31) - h_12*(b_11*h_12 + b_13*h_32) + h_21*(b_22*h_21 + b_23*h_31) - h_22*(b_22*h_22 + b_23*h_32) + h_31*(b_13*h_11 + b_23*h_21 + b_33*h_31) - h_32*(b_13*h_12 + b_23*h_22 + b_33*h_32)]])"
      ]
     },
     "metadata": {}
    },
    {
     "output_type": "stream",
     "name": "stdout",
     "text": [
      "b\n"
     ]
    },
    {
     "output_type": "display_data",
     "data": {
      "text/latex": [
       "$\\displaystyle \\left[\\begin{matrix}b_{11}\\\\b_{13}\\\\b_{22}\\\\b_{23}\\\\b_{33}\\end{matrix}\\right]$"
      ],
      "text/plain": [
       "Matrix([\n",
       "[b_11],\n",
       "[b_13],\n",
       "[b_22],\n",
       "[b_23],\n",
       "[b_33]])"
      ]
     },
     "metadata": {}
    },
    {
     "output_type": "stream",
     "name": "stdout",
     "text": [
      "\\left[\\begin{matrix}b_{11}\\\\b_{13}\\\\b_{22}\\\\b_{23}\\\\b_{33}\\end{matrix}\\right]\n",
      "dt1_db\n"
     ]
    },
    {
     "output_type": "display_data",
     "data": {
      "text/latex": [
       "$\\displaystyle \\left[\\begin{matrix}h_{11} h_{12} & h_{11} h_{32} + h_{12} h_{31} & h_{21} h_{22} & h_{21} h_{32} + h_{22} h_{31} & h_{31} h_{32}\\end{matrix}\\right]$"
      ],
      "text/plain": [
       "Matrix([[h_11*h_12, h_11*h_32 + h_12*h_31, h_21*h_22, h_21*h_32 + h_22*h_31, h_31*h_32]])"
      ]
     },
     "metadata": {}
    },
    {
     "output_type": "stream",
     "name": "stdout",
     "text": [
      "dt2_db\n"
     ]
    },
    {
     "output_type": "display_data",
     "data": {
      "text/latex": [
       "$\\displaystyle \\left[\\begin{matrix}h_{11}^{2} - h_{12}^{2} & 2 h_{11} h_{31} - 2 h_{12} h_{32} & h_{21}^{2} - h_{22}^{2} & 2 h_{21} h_{31} - 2 h_{22} h_{32} & h_{31}^{2} - h_{32}^{2}\\end{matrix}\\right]$"
      ],
      "text/plain": [
       "Matrix([[h_11**2 - h_12**2, 2*h_11*h_31 - 2*h_12*h_32, h_21**2 - h_22**2, 2*h_21*h_31 - 2*h_22*h_32, h_31**2 - h_32**2]])"
      ]
     },
     "metadata": {}
    },
    {
     "output_type": "stream",
     "name": "stdout",
     "text": [
      "v\n"
     ]
    },
    {
     "output_type": "display_data",
     "data": {
      "text/latex": [
       "$\\displaystyle \\left[\\begin{matrix}h_{11} h_{12} & h_{11} h_{32} + h_{12} h_{31} & h_{21} h_{22} & h_{21} h_{32} + h_{22} h_{31} & h_{31} h_{32}\\\\h_{11}^{2} - h_{12}^{2} & 2 h_{11} h_{31} - 2 h_{12} h_{32} & h_{21}^{2} - h_{22}^{2} & 2 h_{21} h_{31} - 2 h_{22} h_{32} & h_{31}^{2} - h_{32}^{2}\\end{matrix}\\right]$"
      ],
      "text/plain": [
       "Matrix([\n",
       "[        h_11*h_12,     h_11*h_32 + h_12*h_31,         h_21*h_22,     h_21*h_32 + h_22*h_31,         h_31*h_32],\n",
       "[h_11**2 - h_12**2, 2*h_11*h_31 - 2*h_12*h_32, h_21**2 - h_22**2, 2*h_21*h_31 - 2*h_22*h_32, h_31**2 - h_32**2]])"
      ]
     },
     "metadata": {}
    },
    {
     "output_type": "stream",
     "name": "stdout",
     "text": [
      "\\left[\\begin{matrix}h_{11} h_{12} & h_{11} h_{32} + h_{12} h_{31} & h_{21} h_{22} & h_{21} h_{32} + h_{22} h_{31} & h_{31} h_{32}\\\\h_{11}^{2} - h_{12}^{2} & 2 h_{11} h_{31} - 2 h_{12} h_{32} & h_{21}^{2} - h_{22}^{2} & 2 h_{21} h_{31} - 2 h_{22} h_{32} & h_{31}^{2} - h_{32}^{2}\\end{matrix}\\right]\n"
     ]
    }
   ],
   "metadata": {}
  }
 ],
 "metadata": {
  "orig_nbformat": 4,
  "language_info": {
   "name": "python",
   "version": "3.7.3",
   "mimetype": "text/x-python",
   "codemirror_mode": {
    "name": "ipython",
    "version": 3
   },
   "pygments_lexer": "ipython3",
   "nbconvert_exporter": "python",
   "file_extension": ".py"
  },
  "kernelspec": {
   "name": "python3",
   "display_name": "Python 3.7.3 64-bit"
  },
  "interpreter": {
   "hash": "04635d289a519a1410467dd0afb0db42f9184808881ca68b2eb5a687a20a5a94"
  }
 },
 "nbformat": 4,
 "nbformat_minor": 2
}