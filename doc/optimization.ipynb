{
 "cells": [
  {
   "cell_type": "markdown",
   "source": [
    "# Non-linear Optimization"
   ],
   "metadata": {}
  },
  {
   "cell_type": "code",
   "execution_count": 21,
   "source": [
    "import sympy as sp\r\n",
    "from IPython.display import display\r\n",
    "\r\n",
    "x, y, z = sp.symbols('x y z')\r\n",
    "u, v = sp.symbols('u v')\r\n",
    "\r\n",
    "fu, fv, cu, cv = sp.symbols('f_u f_v cu cv')\r\n",
    "qr, qx, qy, qz = sp.symbols('qr qx qy qz')\r\n",
    "t_x, t_y, t_z = sp.symbols('t_x t_y t_z')\r\n",
    "k1, k2, k3 = sp.symbols('k1 k2 k3')\r\n",
    "\r\n",
    "print('K')\r\n",
    "K = sp.Matrix([[fu,  0, cu],\r\n",
    "               [ 0, fv, cv],\r\n",
    "               [ 0,  0, 1]])\r\n",
    "\r\n",
    "r0 = 1.0 - 2.0*(qy*qy + qz*qz)\r\n",
    "r1 = 2.0*(qx*qy - qr*qz)\r\n",
    "r2 = 2.0*(qr*qy + qx*qz)\r\n",
    "\r\n",
    "r3 = 2.0*(qx*qy + qr*qz)\r\n",
    "r4 = 1.0 - 2.0*(qx*qx + qz*qz)\r\n",
    "r5 = 2.0*(qy*qz - qr*qx)\r\n",
    "\r\n",
    "r6 = 2.0*(qx*qz - qr*qy)\r\n",
    "r7 = 2.0*(qr*qx + qy*qz)\r\n",
    "r8 = 1.0 - 2.0*(qx*qx + qy*qy)\r\n",
    "\r\n",
    "R = sp.Matrix([[r0, r1, r2], [r3, r4, r5], [r6, r7, r8]])\r\n",
    "print('R')\r\n",
    "display(R)\r\n",
    "\r\n",
    "t = sp.Matrix([[t_x], [t_y], [t_z]])\r\n",
    "print('t')\r\n",
    "display(t)\r\n",
    "\r\n",
    "RT = sp.Matrix.hstack(R, t)\r\n",
    "\r\n",
    "print('RT')\r\n",
    "display(RT)\r\n",
    "\r\n",
    "xyz1 = sp.Matrix([[x], [y], [z], [1]])\r\n",
    "p = RT*xyz1\r\n",
    "\r\n",
    "xc = p[0,0]\r\n",
    "yc = p[1,0]\r\n",
    "zc = p[2,0]\r\n",
    "\r\n",
    "r2 = (xc/zc)**2 + (yc/zc)**2\r\n",
    "\r\n",
    "ratio = 1 + k1*r2 + k2*r2**2 + k3*r2**3\r\n",
    "\r\n",
    "e_u = fu*ratio*xc/zc + cu - u\r\n",
    "e_v = fv*ratio*yc/zc + cv - v\r\n",
    "e_qnorm = qr**2 + qx**2 + qy**2 + qz**2 - 1\r\n",
    "\r\n",
    "# e_u = e_u.simplify()\r\n",
    "# e_v = e_v.simplify()\r\n",
    "# print('e_u')\r\n",
    "# display(e_u)\r\n",
    "\r\n",
    "# print('e_v')\r\n",
    "# display(e_v)\r\n",
    "\r\n",
    "# print('e_q')\r\n",
    "# display(e_qnorm)\r\n",
    "\r\n",
    "# print('e_u')\r\n",
    "# print(e_u)\r\n",
    "# print('e_v')\r\n",
    "# print(e_v)\r\n",
    "# print('e_q')\r\n",
    "# print(e_qnorm)\r\n",
    "\r\n",
    "e = sp.Matrix([[e_u], [e_v], [e_qnorm]])\r\n",
    "de_dfu = e.diff(fu)\r\n",
    "de_dfv = e.diff(fv)\r\n",
    "\r\n",
    "de_dcu = e.diff(cu)\r\n",
    "de_dcv = e.diff(cv)\r\n",
    "\r\n",
    "de_dk1 = e.diff(k1)\r\n",
    "de_dk2 = e.diff(k2)\r\n",
    "de_dk3 = e.diff(k3)\r\n",
    "\r\n",
    "de_dqr = e.diff(qr)\r\n",
    "de_dqx = e.diff(qx)\r\n",
    "de_dqy = e.diff(qy)\r\n",
    "de_dqz = e.diff(qz)\r\n",
    "\r\n",
    "de_dtx = e.diff(t_x)\r\n",
    "de_dty = e.diff(t_y)\r\n",
    "de_dtz = e.diff(t_z)\r\n",
    "\r\n",
    "# print('de_dfu')\r\n",
    "# print(de_dfu)\r\n",
    "\r\n",
    "# print('de_dfv')\r\n",
    "# print(de_dfv)\r\n",
    "\r\n",
    "# print('de_dcu')\r\n",
    "# print(de_dcu)\r\n",
    "\r\n",
    "# print('de_dcv')\r\n",
    "# print(de_dcv)\r\n",
    "\r\n",
    "# print('de_dk1')\r\n",
    "# print(de_dk1)\r\n",
    "\r\n",
    "# print('de_dk2')\r\n",
    "# print(de_dk2)\r\n",
    "\r\n",
    "# print('de_dk3')\r\n",
    "# print(de_dk3)\r\n",
    "\r\n",
    "# print('de_dqr')\r\n",
    "# print(de_dqr)\r\n",
    "\r\n",
    "# print('de_dqx')\r\n",
    "# print(de_dqx)\r\n",
    "\r\n",
    "# print('de_dqy')\r\n",
    "# print(de_dqy)\r\n",
    "\r\n",
    "# print('de_dqz')\r\n",
    "# print(de_dqz)\r\n",
    "\r\n",
    "print('de_dtx')\r\n",
    "print(de_dtx)\r\n",
    "\r\n",
    "print('de_dty')\r\n",
    "print(de_dty)\r\n",
    "\r\n",
    "print('de_dtz')\r\n",
    "print(de_dtz)"
   ],
   "outputs": [
    {
     "output_type": "stream",
     "name": "stdout",
     "text": [
      "K\n",
      "R\n"
     ]
    },
    {
     "output_type": "display_data",
     "data": {
      "text/latex": [
       "$\\displaystyle \\left[\\begin{matrix}- 2.0 qy^{2} - 2.0 qz^{2} + 1.0 & - 2.0 qr qz + 2.0 qx qy & 2.0 qr qy + 2.0 qx qz\\\\2.0 qr qz + 2.0 qx qy & - 2.0 qx^{2} - 2.0 qz^{2} + 1.0 & - 2.0 qr qx + 2.0 qy qz\\\\- 2.0 qr qy + 2.0 qx qz & 2.0 qr qx + 2.0 qy qz & - 2.0 qx^{2} - 2.0 qy^{2} + 1.0\\end{matrix}\\right]$"
      ],
      "text/plain": [
       "Matrix([\n",
       "[-2.0*qy**2 - 2.0*qz**2 + 1.0,       -2.0*qr*qz + 2.0*qx*qy,        2.0*qr*qy + 2.0*qx*qz],\n",
       "[       2.0*qr*qz + 2.0*qx*qy, -2.0*qx**2 - 2.0*qz**2 + 1.0,       -2.0*qr*qx + 2.0*qy*qz],\n",
       "[      -2.0*qr*qy + 2.0*qx*qz,        2.0*qr*qx + 2.0*qy*qz, -2.0*qx**2 - 2.0*qy**2 + 1.0]])"
      ]
     },
     "metadata": {}
    },
    {
     "output_type": "stream",
     "name": "stdout",
     "text": [
      "t\n"
     ]
    },
    {
     "output_type": "display_data",
     "data": {
      "text/latex": [
       "$\\displaystyle \\left[\\begin{matrix}t_{x}\\\\t_{y}\\\\t_{z}\\end{matrix}\\right]$"
      ],
      "text/plain": [
       "Matrix([\n",
       "[t_x],\n",
       "[t_y],\n",
       "[t_z]])"
      ]
     },
     "metadata": {}
    },
    {
     "output_type": "stream",
     "name": "stdout",
     "text": [
      "RT\n"
     ]
    },
    {
     "output_type": "display_data",
     "data": {
      "text/latex": [
       "$\\displaystyle \\left[\\begin{matrix}- 2.0 qy^{2} - 2.0 qz^{2} + 1.0 & - 2.0 qr qz + 2.0 qx qy & 2.0 qr qy + 2.0 qx qz & t_{x}\\\\2.0 qr qz + 2.0 qx qy & - 2.0 qx^{2} - 2.0 qz^{2} + 1.0 & - 2.0 qr qx + 2.0 qy qz & t_{y}\\\\- 2.0 qr qy + 2.0 qx qz & 2.0 qr qx + 2.0 qy qz & - 2.0 qx^{2} - 2.0 qy^{2} + 1.0 & t_{z}\\end{matrix}\\right]$"
      ],
      "text/plain": [
       "Matrix([\n",
       "[-2.0*qy**2 - 2.0*qz**2 + 1.0,       -2.0*qr*qz + 2.0*qx*qy,        2.0*qr*qy + 2.0*qx*qz, t_x],\n",
       "[       2.0*qr*qz + 2.0*qx*qy, -2.0*qx**2 - 2.0*qz**2 + 1.0,       -2.0*qr*qx + 2.0*qy*qz, t_y],\n",
       "[      -2.0*qr*qy + 2.0*qx*qz,        2.0*qr*qx + 2.0*qy*qz, -2.0*qx**2 - 2.0*qy**2 + 1.0, t_z]])"
      ]
     },
     "metadata": {}
    },
    {
     "output_type": "stream",
     "name": "stdout",
     "text": [
      "de_dtx\n",
      "Matrix([[f_u*(k1*(2*t_x + 2*x*(-2.0*qy**2 - 2.0*qz**2 + 1.0) + 2*y*(-2.0*qr*qz + 2.0*qx*qy) + 2*z*(2.0*qr*qy + 2.0*qx*qz))/(t_z + x*(-2.0*qr*qy + 2.0*qx*qz) + y*(2.0*qr*qx + 2.0*qy*qz) + z*(-2.0*qx**2 - 2.0*qy**2 + 1.0))**2 + 2*k2*((t_x + x*(-2.0*qy**2 - 2.0*qz**2 + 1.0) + y*(-2.0*qr*qz + 2.0*qx*qy) + z*(2.0*qr*qy + 2.0*qx*qz))**2/(t_z + x*(-2.0*qr*qy + 2.0*qx*qz) + y*(2.0*qr*qx + 2.0*qy*qz) + z*(-2.0*qx**2 - 2.0*qy**2 + 1.0))**2 + (t_y + x*(2.0*qr*qz + 2.0*qx*qy) + y*(-2.0*qx**2 - 2.0*qz**2 + 1.0) + z*(-2.0*qr*qx + 2.0*qy*qz))**2/(t_z + x*(-2.0*qr*qy + 2.0*qx*qz) + y*(2.0*qr*qx + 2.0*qy*qz) + z*(-2.0*qx**2 - 2.0*qy**2 + 1.0))**2)*(2*t_x + 2*x*(-2.0*qy**2 - 2.0*qz**2 + 1.0) + 2*y*(-2.0*qr*qz + 2.0*qx*qy) + 2*z*(2.0*qr*qy + 2.0*qx*qz))/(t_z + x*(-2.0*qr*qy + 2.0*qx*qz) + y*(2.0*qr*qx + 2.0*qy*qz) + z*(-2.0*qx**2 - 2.0*qy**2 + 1.0))**2 + 3*k3*((t_x + x*(-2.0*qy**2 - 2.0*qz**2 + 1.0) + y*(-2.0*qr*qz + 2.0*qx*qy) + z*(2.0*qr*qy + 2.0*qx*qz))**2/(t_z + x*(-2.0*qr*qy + 2.0*qx*qz) + y*(2.0*qr*qx + 2.0*qy*qz) + z*(-2.0*qx**2 - 2.0*qy**2 + 1.0))**2 + (t_y + x*(2.0*qr*qz + 2.0*qx*qy) + y*(-2.0*qx**2 - 2.0*qz**2 + 1.0) + z*(-2.0*qr*qx + 2.0*qy*qz))**2/(t_z + x*(-2.0*qr*qy + 2.0*qx*qz) + y*(2.0*qr*qx + 2.0*qy*qz) + z*(-2.0*qx**2 - 2.0*qy**2 + 1.0))**2)**2*(2*t_x + 2*x*(-2.0*qy**2 - 2.0*qz**2 + 1.0) + 2*y*(-2.0*qr*qz + 2.0*qx*qy) + 2*z*(2.0*qr*qy + 2.0*qx*qz))/(t_z + x*(-2.0*qr*qy + 2.0*qx*qz) + y*(2.0*qr*qx + 2.0*qy*qz) + z*(-2.0*qx**2 - 2.0*qy**2 + 1.0))**2)*(t_x + x*(-2.0*qy**2 - 2.0*qz**2 + 1.0) + y*(-2.0*qr*qz + 2.0*qx*qy) + z*(2.0*qr*qy + 2.0*qx*qz))/(t_z + x*(-2.0*qr*qy + 2.0*qx*qz) + y*(2.0*qr*qx + 2.0*qy*qz) + z*(-2.0*qx**2 - 2.0*qy**2 + 1.0)) + f_u*(k1*((t_x + x*(-2.0*qy**2 - 2.0*qz**2 + 1.0) + y*(-2.0*qr*qz + 2.0*qx*qy) + z*(2.0*qr*qy + 2.0*qx*qz))**2/(t_z + x*(-2.0*qr*qy + 2.0*qx*qz) + y*(2.0*qr*qx + 2.0*qy*qz) + z*(-2.0*qx**2 - 2.0*qy**2 + 1.0))**2 + (t_y + x*(2.0*qr*qz + 2.0*qx*qy) + y*(-2.0*qx**2 - 2.0*qz**2 + 1.0) + z*(-2.0*qr*qx + 2.0*qy*qz))**2/(t_z + x*(-2.0*qr*qy + 2.0*qx*qz) + y*(2.0*qr*qx + 2.0*qy*qz) + z*(-2.0*qx**2 - 2.0*qy**2 + 1.0))**2) + k2*((t_x + x*(-2.0*qy**2 - 2.0*qz**2 + 1.0) + y*(-2.0*qr*qz + 2.0*qx*qy) + z*(2.0*qr*qy + 2.0*qx*qz))**2/(t_z + x*(-2.0*qr*qy + 2.0*qx*qz) + y*(2.0*qr*qx + 2.0*qy*qz) + z*(-2.0*qx**2 - 2.0*qy**2 + 1.0))**2 + (t_y + x*(2.0*qr*qz + 2.0*qx*qy) + y*(-2.0*qx**2 - 2.0*qz**2 + 1.0) + z*(-2.0*qr*qx + 2.0*qy*qz))**2/(t_z + x*(-2.0*qr*qy + 2.0*qx*qz) + y*(2.0*qr*qx + 2.0*qy*qz) + z*(-2.0*qx**2 - 2.0*qy**2 + 1.0))**2)**2 + k3*((t_x + x*(-2.0*qy**2 - 2.0*qz**2 + 1.0) + y*(-2.0*qr*qz + 2.0*qx*qy) + z*(2.0*qr*qy + 2.0*qx*qz))**2/(t_z + x*(-2.0*qr*qy + 2.0*qx*qz) + y*(2.0*qr*qx + 2.0*qy*qz) + z*(-2.0*qx**2 - 2.0*qy**2 + 1.0))**2 + (t_y + x*(2.0*qr*qz + 2.0*qx*qy) + y*(-2.0*qx**2 - 2.0*qz**2 + 1.0) + z*(-2.0*qr*qx + 2.0*qy*qz))**2/(t_z + x*(-2.0*qr*qy + 2.0*qx*qz) + y*(2.0*qr*qx + 2.0*qy*qz) + z*(-2.0*qx**2 - 2.0*qy**2 + 1.0))**2)**3 + 1)/(t_z + x*(-2.0*qr*qy + 2.0*qx*qz) + y*(2.0*qr*qx + 2.0*qy*qz) + z*(-2.0*qx**2 - 2.0*qy**2 + 1.0))], [f_v*(k1*(2*t_x + 2*x*(-2.0*qy**2 - 2.0*qz**2 + 1.0) + 2*y*(-2.0*qr*qz + 2.0*qx*qy) + 2*z*(2.0*qr*qy + 2.0*qx*qz))/(t_z + x*(-2.0*qr*qy + 2.0*qx*qz) + y*(2.0*qr*qx + 2.0*qy*qz) + z*(-2.0*qx**2 - 2.0*qy**2 + 1.0))**2 + 2*k2*((t_x + x*(-2.0*qy**2 - 2.0*qz**2 + 1.0) + y*(-2.0*qr*qz + 2.0*qx*qy) + z*(2.0*qr*qy + 2.0*qx*qz))**2/(t_z + x*(-2.0*qr*qy + 2.0*qx*qz) + y*(2.0*qr*qx + 2.0*qy*qz) + z*(-2.0*qx**2 - 2.0*qy**2 + 1.0))**2 + (t_y + x*(2.0*qr*qz + 2.0*qx*qy) + y*(-2.0*qx**2 - 2.0*qz**2 + 1.0) + z*(-2.0*qr*qx + 2.0*qy*qz))**2/(t_z + x*(-2.0*qr*qy + 2.0*qx*qz) + y*(2.0*qr*qx + 2.0*qy*qz) + z*(-2.0*qx**2 - 2.0*qy**2 + 1.0))**2)*(2*t_x + 2*x*(-2.0*qy**2 - 2.0*qz**2 + 1.0) + 2*y*(-2.0*qr*qz + 2.0*qx*qy) + 2*z*(2.0*qr*qy + 2.0*qx*qz))/(t_z + x*(-2.0*qr*qy + 2.0*qx*qz) + y*(2.0*qr*qx + 2.0*qy*qz) + z*(-2.0*qx**2 - 2.0*qy**2 + 1.0))**2 + 3*k3*((t_x + x*(-2.0*qy**2 - 2.0*qz**2 + 1.0) + y*(-2.0*qr*qz + 2.0*qx*qy) + z*(2.0*qr*qy + 2.0*qx*qz))**2/(t_z + x*(-2.0*qr*qy + 2.0*qx*qz) + y*(2.0*qr*qx + 2.0*qy*qz) + z*(-2.0*qx**2 - 2.0*qy**2 + 1.0))**2 + (t_y + x*(2.0*qr*qz + 2.0*qx*qy) + y*(-2.0*qx**2 - 2.0*qz**2 + 1.0) + z*(-2.0*qr*qx + 2.0*qy*qz))**2/(t_z + x*(-2.0*qr*qy + 2.0*qx*qz) + y*(2.0*qr*qx + 2.0*qy*qz) + z*(-2.0*qx**2 - 2.0*qy**2 + 1.0))**2)**2*(2*t_x + 2*x*(-2.0*qy**2 - 2.0*qz**2 + 1.0) + 2*y*(-2.0*qr*qz + 2.0*qx*qy) + 2*z*(2.0*qr*qy + 2.0*qx*qz))/(t_z + x*(-2.0*qr*qy + 2.0*qx*qz) + y*(2.0*qr*qx + 2.0*qy*qz) + z*(-2.0*qx**2 - 2.0*qy**2 + 1.0))**2)*(t_y + x*(2.0*qr*qz + 2.0*qx*qy) + y*(-2.0*qx**2 - 2.0*qz**2 + 1.0) + z*(-2.0*qr*qx + 2.0*qy*qz))/(t_z + x*(-2.0*qr*qy + 2.0*qx*qz) + y*(2.0*qr*qx + 2.0*qy*qz) + z*(-2.0*qx**2 - 2.0*qy**2 + 1.0))], [0]])\n",
      "de_dty\n",
      "Matrix([[f_u*(k1*(2*t_y + 2*x*(2.0*qr*qz + 2.0*qx*qy) + 2*y*(-2.0*qx**2 - 2.0*qz**2 + 1.0) + 2*z*(-2.0*qr*qx + 2.0*qy*qz))/(t_z + x*(-2.0*qr*qy + 2.0*qx*qz) + y*(2.0*qr*qx + 2.0*qy*qz) + z*(-2.0*qx**2 - 2.0*qy**2 + 1.0))**2 + 2*k2*((t_x + x*(-2.0*qy**2 - 2.0*qz**2 + 1.0) + y*(-2.0*qr*qz + 2.0*qx*qy) + z*(2.0*qr*qy + 2.0*qx*qz))**2/(t_z + x*(-2.0*qr*qy + 2.0*qx*qz) + y*(2.0*qr*qx + 2.0*qy*qz) + z*(-2.0*qx**2 - 2.0*qy**2 + 1.0))**2 + (t_y + x*(2.0*qr*qz + 2.0*qx*qy) + y*(-2.0*qx**2 - 2.0*qz**2 + 1.0) + z*(-2.0*qr*qx + 2.0*qy*qz))**2/(t_z + x*(-2.0*qr*qy + 2.0*qx*qz) + y*(2.0*qr*qx + 2.0*qy*qz) + z*(-2.0*qx**2 - 2.0*qy**2 + 1.0))**2)*(2*t_y + 2*x*(2.0*qr*qz + 2.0*qx*qy) + 2*y*(-2.0*qx**2 - 2.0*qz**2 + 1.0) + 2*z*(-2.0*qr*qx + 2.0*qy*qz))/(t_z + x*(-2.0*qr*qy + 2.0*qx*qz) + y*(2.0*qr*qx + 2.0*qy*qz) + z*(-2.0*qx**2 - 2.0*qy**2 + 1.0))**2 + 3*k3*((t_x + x*(-2.0*qy**2 - 2.0*qz**2 + 1.0) + y*(-2.0*qr*qz + 2.0*qx*qy) + z*(2.0*qr*qy + 2.0*qx*qz))**2/(t_z + x*(-2.0*qr*qy + 2.0*qx*qz) + y*(2.0*qr*qx + 2.0*qy*qz) + z*(-2.0*qx**2 - 2.0*qy**2 + 1.0))**2 + (t_y + x*(2.0*qr*qz + 2.0*qx*qy) + y*(-2.0*qx**2 - 2.0*qz**2 + 1.0) + z*(-2.0*qr*qx + 2.0*qy*qz))**2/(t_z + x*(-2.0*qr*qy + 2.0*qx*qz) + y*(2.0*qr*qx + 2.0*qy*qz) + z*(-2.0*qx**2 - 2.0*qy**2 + 1.0))**2)**2*(2*t_y + 2*x*(2.0*qr*qz + 2.0*qx*qy) + 2*y*(-2.0*qx**2 - 2.0*qz**2 + 1.0) + 2*z*(-2.0*qr*qx + 2.0*qy*qz))/(t_z + x*(-2.0*qr*qy + 2.0*qx*qz) + y*(2.0*qr*qx + 2.0*qy*qz) + z*(-2.0*qx**2 - 2.0*qy**2 + 1.0))**2)*(t_x + x*(-2.0*qy**2 - 2.0*qz**2 + 1.0) + y*(-2.0*qr*qz + 2.0*qx*qy) + z*(2.0*qr*qy + 2.0*qx*qz))/(t_z + x*(-2.0*qr*qy + 2.0*qx*qz) + y*(2.0*qr*qx + 2.0*qy*qz) + z*(-2.0*qx**2 - 2.0*qy**2 + 1.0))], [f_v*(k1*(2*t_y + 2*x*(2.0*qr*qz + 2.0*qx*qy) + 2*y*(-2.0*qx**2 - 2.0*qz**2 + 1.0) + 2*z*(-2.0*qr*qx + 2.0*qy*qz))/(t_z + x*(-2.0*qr*qy + 2.0*qx*qz) + y*(2.0*qr*qx + 2.0*qy*qz) + z*(-2.0*qx**2 - 2.0*qy**2 + 1.0))**2 + 2*k2*((t_x + x*(-2.0*qy**2 - 2.0*qz**2 + 1.0) + y*(-2.0*qr*qz + 2.0*qx*qy) + z*(2.0*qr*qy + 2.0*qx*qz))**2/(t_z + x*(-2.0*qr*qy + 2.0*qx*qz) + y*(2.0*qr*qx + 2.0*qy*qz) + z*(-2.0*qx**2 - 2.0*qy**2 + 1.0))**2 + (t_y + x*(2.0*qr*qz + 2.0*qx*qy) + y*(-2.0*qx**2 - 2.0*qz**2 + 1.0) + z*(-2.0*qr*qx + 2.0*qy*qz))**2/(t_z + x*(-2.0*qr*qy + 2.0*qx*qz) + y*(2.0*qr*qx + 2.0*qy*qz) + z*(-2.0*qx**2 - 2.0*qy**2 + 1.0))**2)*(2*t_y + 2*x*(2.0*qr*qz + 2.0*qx*qy) + 2*y*(-2.0*qx**2 - 2.0*qz**2 + 1.0) + 2*z*(-2.0*qr*qx + 2.0*qy*qz))/(t_z + x*(-2.0*qr*qy + 2.0*qx*qz) + y*(2.0*qr*qx + 2.0*qy*qz) + z*(-2.0*qx**2 - 2.0*qy**2 + 1.0))**2 + 3*k3*((t_x + x*(-2.0*qy**2 - 2.0*qz**2 + 1.0) + y*(-2.0*qr*qz + 2.0*qx*qy) + z*(2.0*qr*qy + 2.0*qx*qz))**2/(t_z + x*(-2.0*qr*qy + 2.0*qx*qz) + y*(2.0*qr*qx + 2.0*qy*qz) + z*(-2.0*qx**2 - 2.0*qy**2 + 1.0))**2 + (t_y + x*(2.0*qr*qz + 2.0*qx*qy) + y*(-2.0*qx**2 - 2.0*qz**2 + 1.0) + z*(-2.0*qr*qx + 2.0*qy*qz))**2/(t_z + x*(-2.0*qr*qy + 2.0*qx*qz) + y*(2.0*qr*qx + 2.0*qy*qz) + z*(-2.0*qx**2 - 2.0*qy**2 + 1.0))**2)**2*(2*t_y + 2*x*(2.0*qr*qz + 2.0*qx*qy) + 2*y*(-2.0*qx**2 - 2.0*qz**2 + 1.0) + 2*z*(-2.0*qr*qx + 2.0*qy*qz))/(t_z + x*(-2.0*qr*qy + 2.0*qx*qz) + y*(2.0*qr*qx + 2.0*qy*qz) + z*(-2.0*qx**2 - 2.0*qy**2 + 1.0))**2)*(t_y + x*(2.0*qr*qz + 2.0*qx*qy) + y*(-2.0*qx**2 - 2.0*qz**2 + 1.0) + z*(-2.0*qr*qx + 2.0*qy*qz))/(t_z + x*(-2.0*qr*qy + 2.0*qx*qz) + y*(2.0*qr*qx + 2.0*qy*qz) + z*(-2.0*qx**2 - 2.0*qy**2 + 1.0)) + f_v*(k1*((t_x + x*(-2.0*qy**2 - 2.0*qz**2 + 1.0) + y*(-2.0*qr*qz + 2.0*qx*qy) + z*(2.0*qr*qy + 2.0*qx*qz))**2/(t_z + x*(-2.0*qr*qy + 2.0*qx*qz) + y*(2.0*qr*qx + 2.0*qy*qz) + z*(-2.0*qx**2 - 2.0*qy**2 + 1.0))**2 + (t_y + x*(2.0*qr*qz + 2.0*qx*qy) + y*(-2.0*qx**2 - 2.0*qz**2 + 1.0) + z*(-2.0*qr*qx + 2.0*qy*qz))**2/(t_z + x*(-2.0*qr*qy + 2.0*qx*qz) + y*(2.0*qr*qx + 2.0*qy*qz) + z*(-2.0*qx**2 - 2.0*qy**2 + 1.0))**2) + k2*((t_x + x*(-2.0*qy**2 - 2.0*qz**2 + 1.0) + y*(-2.0*qr*qz + 2.0*qx*qy) + z*(2.0*qr*qy + 2.0*qx*qz))**2/(t_z + x*(-2.0*qr*qy + 2.0*qx*qz) + y*(2.0*qr*qx + 2.0*qy*qz) + z*(-2.0*qx**2 - 2.0*qy**2 + 1.0))**2 + (t_y + x*(2.0*qr*qz + 2.0*qx*qy) + y*(-2.0*qx**2 - 2.0*qz**2 + 1.0) + z*(-2.0*qr*qx + 2.0*qy*qz))**2/(t_z + x*(-2.0*qr*qy + 2.0*qx*qz) + y*(2.0*qr*qx + 2.0*qy*qz) + z*(-2.0*qx**2 - 2.0*qy**2 + 1.0))**2)**2 + k3*((t_x + x*(-2.0*qy**2 - 2.0*qz**2 + 1.0) + y*(-2.0*qr*qz + 2.0*qx*qy) + z*(2.0*qr*qy + 2.0*qx*qz))**2/(t_z + x*(-2.0*qr*qy + 2.0*qx*qz) + y*(2.0*qr*qx + 2.0*qy*qz) + z*(-2.0*qx**2 - 2.0*qy**2 + 1.0))**2 + (t_y + x*(2.0*qr*qz + 2.0*qx*qy) + y*(-2.0*qx**2 - 2.0*qz**2 + 1.0) + z*(-2.0*qr*qx + 2.0*qy*qz))**2/(t_z + x*(-2.0*qr*qy + 2.0*qx*qz) + y*(2.0*qr*qx + 2.0*qy*qz) + z*(-2.0*qx**2 - 2.0*qy**2 + 1.0))**2)**3 + 1)/(t_z + x*(-2.0*qr*qy + 2.0*qx*qz) + y*(2.0*qr*qx + 2.0*qy*qz) + z*(-2.0*qx**2 - 2.0*qy**2 + 1.0))], [0]])\n",
      "de_dtz\n",
      "Matrix([[f_u*(k1*(-2*(t_x + x*(-2.0*qy**2 - 2.0*qz**2 + 1.0) + y*(-2.0*qr*qz + 2.0*qx*qy) + z*(2.0*qr*qy + 2.0*qx*qz))**2/(t_z + x*(-2.0*qr*qy + 2.0*qx*qz) + y*(2.0*qr*qx + 2.0*qy*qz) + z*(-2.0*qx**2 - 2.0*qy**2 + 1.0))**3 - 2*(t_y + x*(2.0*qr*qz + 2.0*qx*qy) + y*(-2.0*qx**2 - 2.0*qz**2 + 1.0) + z*(-2.0*qr*qx + 2.0*qy*qz))**2/(t_z + x*(-2.0*qr*qy + 2.0*qx*qz) + y*(2.0*qr*qx + 2.0*qy*qz) + z*(-2.0*qx**2 - 2.0*qy**2 + 1.0))**3) + k2*(-4*(t_x + x*(-2.0*qy**2 - 2.0*qz**2 + 1.0) + y*(-2.0*qr*qz + 2.0*qx*qy) + z*(2.0*qr*qy + 2.0*qx*qz))**2/(t_z + x*(-2.0*qr*qy + 2.0*qx*qz) + y*(2.0*qr*qx + 2.0*qy*qz) + z*(-2.0*qx**2 - 2.0*qy**2 + 1.0))**3 - 4*(t_y + x*(2.0*qr*qz + 2.0*qx*qy) + y*(-2.0*qx**2 - 2.0*qz**2 + 1.0) + z*(-2.0*qr*qx + 2.0*qy*qz))**2/(t_z + x*(-2.0*qr*qy + 2.0*qx*qz) + y*(2.0*qr*qx + 2.0*qy*qz) + z*(-2.0*qx**2 - 2.0*qy**2 + 1.0))**3)*((t_x + x*(-2.0*qy**2 - 2.0*qz**2 + 1.0) + y*(-2.0*qr*qz + 2.0*qx*qy) + z*(2.0*qr*qy + 2.0*qx*qz))**2/(t_z + x*(-2.0*qr*qy + 2.0*qx*qz) + y*(2.0*qr*qx + 2.0*qy*qz) + z*(-2.0*qx**2 - 2.0*qy**2 + 1.0))**2 + (t_y + x*(2.0*qr*qz + 2.0*qx*qy) + y*(-2.0*qx**2 - 2.0*qz**2 + 1.0) + z*(-2.0*qr*qx + 2.0*qy*qz))**2/(t_z + x*(-2.0*qr*qy + 2.0*qx*qz) + y*(2.0*qr*qx + 2.0*qy*qz) + z*(-2.0*qx**2 - 2.0*qy**2 + 1.0))**2) + k3*(-6*(t_x + x*(-2.0*qy**2 - 2.0*qz**2 + 1.0) + y*(-2.0*qr*qz + 2.0*qx*qy) + z*(2.0*qr*qy + 2.0*qx*qz))**2/(t_z + x*(-2.0*qr*qy + 2.0*qx*qz) + y*(2.0*qr*qx + 2.0*qy*qz) + z*(-2.0*qx**2 - 2.0*qy**2 + 1.0))**3 - 6*(t_y + x*(2.0*qr*qz + 2.0*qx*qy) + y*(-2.0*qx**2 - 2.0*qz**2 + 1.0) + z*(-2.0*qr*qx + 2.0*qy*qz))**2/(t_z + x*(-2.0*qr*qy + 2.0*qx*qz) + y*(2.0*qr*qx + 2.0*qy*qz) + z*(-2.0*qx**2 - 2.0*qy**2 + 1.0))**3)*((t_x + x*(-2.0*qy**2 - 2.0*qz**2 + 1.0) + y*(-2.0*qr*qz + 2.0*qx*qy) + z*(2.0*qr*qy + 2.0*qx*qz))**2/(t_z + x*(-2.0*qr*qy + 2.0*qx*qz) + y*(2.0*qr*qx + 2.0*qy*qz) + z*(-2.0*qx**2 - 2.0*qy**2 + 1.0))**2 + (t_y + x*(2.0*qr*qz + 2.0*qx*qy) + y*(-2.0*qx**2 - 2.0*qz**2 + 1.0) + z*(-2.0*qr*qx + 2.0*qy*qz))**2/(t_z + x*(-2.0*qr*qy + 2.0*qx*qz) + y*(2.0*qr*qx + 2.0*qy*qz) + z*(-2.0*qx**2 - 2.0*qy**2 + 1.0))**2)**2)*(t_x + x*(-2.0*qy**2 - 2.0*qz**2 + 1.0) + y*(-2.0*qr*qz + 2.0*qx*qy) + z*(2.0*qr*qy + 2.0*qx*qz))/(t_z + x*(-2.0*qr*qy + 2.0*qx*qz) + y*(2.0*qr*qx + 2.0*qy*qz) + z*(-2.0*qx**2 - 2.0*qy**2 + 1.0)) - f_u*(t_x + x*(-2.0*qy**2 - 2.0*qz**2 + 1.0) + y*(-2.0*qr*qz + 2.0*qx*qy) + z*(2.0*qr*qy + 2.0*qx*qz))*(k1*((t_x + x*(-2.0*qy**2 - 2.0*qz**2 + 1.0) + y*(-2.0*qr*qz + 2.0*qx*qy) + z*(2.0*qr*qy + 2.0*qx*qz))**2/(t_z + x*(-2.0*qr*qy + 2.0*qx*qz) + y*(2.0*qr*qx + 2.0*qy*qz) + z*(-2.0*qx**2 - 2.0*qy**2 + 1.0))**2 + (t_y + x*(2.0*qr*qz + 2.0*qx*qy) + y*(-2.0*qx**2 - 2.0*qz**2 + 1.0) + z*(-2.0*qr*qx + 2.0*qy*qz))**2/(t_z + x*(-2.0*qr*qy + 2.0*qx*qz) + y*(2.0*qr*qx + 2.0*qy*qz) + z*(-2.0*qx**2 - 2.0*qy**2 + 1.0))**2) + k2*((t_x + x*(-2.0*qy**2 - 2.0*qz**2 + 1.0) + y*(-2.0*qr*qz + 2.0*qx*qy) + z*(2.0*qr*qy + 2.0*qx*qz))**2/(t_z + x*(-2.0*qr*qy + 2.0*qx*qz) + y*(2.0*qr*qx + 2.0*qy*qz) + z*(-2.0*qx**2 - 2.0*qy**2 + 1.0))**2 + (t_y + x*(2.0*qr*qz + 2.0*qx*qy) + y*(-2.0*qx**2 - 2.0*qz**2 + 1.0) + z*(-2.0*qr*qx + 2.0*qy*qz))**2/(t_z + x*(-2.0*qr*qy + 2.0*qx*qz) + y*(2.0*qr*qx + 2.0*qy*qz) + z*(-2.0*qx**2 - 2.0*qy**2 + 1.0))**2)**2 + k3*((t_x + x*(-2.0*qy**2 - 2.0*qz**2 + 1.0) + y*(-2.0*qr*qz + 2.0*qx*qy) + z*(2.0*qr*qy + 2.0*qx*qz))**2/(t_z + x*(-2.0*qr*qy + 2.0*qx*qz) + y*(2.0*qr*qx + 2.0*qy*qz) + z*(-2.0*qx**2 - 2.0*qy**2 + 1.0))**2 + (t_y + x*(2.0*qr*qz + 2.0*qx*qy) + y*(-2.0*qx**2 - 2.0*qz**2 + 1.0) + z*(-2.0*qr*qx + 2.0*qy*qz))**2/(t_z + x*(-2.0*qr*qy + 2.0*qx*qz) + y*(2.0*qr*qx + 2.0*qy*qz) + z*(-2.0*qx**2 - 2.0*qy**2 + 1.0))**2)**3 + 1)/(t_z + x*(-2.0*qr*qy + 2.0*qx*qz) + y*(2.0*qr*qx + 2.0*qy*qz) + z*(-2.0*qx**2 - 2.0*qy**2 + 1.0))**2], [f_v*(k1*(-2*(t_x + x*(-2.0*qy**2 - 2.0*qz**2 + 1.0) + y*(-2.0*qr*qz + 2.0*qx*qy) + z*(2.0*qr*qy + 2.0*qx*qz))**2/(t_z + x*(-2.0*qr*qy + 2.0*qx*qz) + y*(2.0*qr*qx + 2.0*qy*qz) + z*(-2.0*qx**2 - 2.0*qy**2 + 1.0))**3 - 2*(t_y + x*(2.0*qr*qz + 2.0*qx*qy) + y*(-2.0*qx**2 - 2.0*qz**2 + 1.0) + z*(-2.0*qr*qx + 2.0*qy*qz))**2/(t_z + x*(-2.0*qr*qy + 2.0*qx*qz) + y*(2.0*qr*qx + 2.0*qy*qz) + z*(-2.0*qx**2 - 2.0*qy**2 + 1.0))**3) + k2*(-4*(t_x + x*(-2.0*qy**2 - 2.0*qz**2 + 1.0) + y*(-2.0*qr*qz + 2.0*qx*qy) + z*(2.0*qr*qy + 2.0*qx*qz))**2/(t_z + x*(-2.0*qr*qy + 2.0*qx*qz) + y*(2.0*qr*qx + 2.0*qy*qz) + z*(-2.0*qx**2 - 2.0*qy**2 + 1.0))**3 - 4*(t_y + x*(2.0*qr*qz + 2.0*qx*qy) + y*(-2.0*qx**2 - 2.0*qz**2 + 1.0) + z*(-2.0*qr*qx + 2.0*qy*qz))**2/(t_z + x*(-2.0*qr*qy + 2.0*qx*qz) + y*(2.0*qr*qx + 2.0*qy*qz) + z*(-2.0*qx**2 - 2.0*qy**2 + 1.0))**3)*((t_x + x*(-2.0*qy**2 - 2.0*qz**2 + 1.0) + y*(-2.0*qr*qz + 2.0*qx*qy) + z*(2.0*qr*qy + 2.0*qx*qz))**2/(t_z + x*(-2.0*qr*qy + 2.0*qx*qz) + y*(2.0*qr*qx + 2.0*qy*qz) + z*(-2.0*qx**2 - 2.0*qy**2 + 1.0))**2 + (t_y + x*(2.0*qr*qz + 2.0*qx*qy) + y*(-2.0*qx**2 - 2.0*qz**2 + 1.0) + z*(-2.0*qr*qx + 2.0*qy*qz))**2/(t_z + x*(-2.0*qr*qy + 2.0*qx*qz) + y*(2.0*qr*qx + 2.0*qy*qz) + z*(-2.0*qx**2 - 2.0*qy**2 + 1.0))**2) + k3*(-6*(t_x + x*(-2.0*qy**2 - 2.0*qz**2 + 1.0) + y*(-2.0*qr*qz + 2.0*qx*qy) + z*(2.0*qr*qy + 2.0*qx*qz))**2/(t_z + x*(-2.0*qr*qy + 2.0*qx*qz) + y*(2.0*qr*qx + 2.0*qy*qz) + z*(-2.0*qx**2 - 2.0*qy**2 + 1.0))**3 - 6*(t_y + x*(2.0*qr*qz + 2.0*qx*qy) + y*(-2.0*qx**2 - 2.0*qz**2 + 1.0) + z*(-2.0*qr*qx + 2.0*qy*qz))**2/(t_z + x*(-2.0*qr*qy + 2.0*qx*qz) + y*(2.0*qr*qx + 2.0*qy*qz) + z*(-2.0*qx**2 - 2.0*qy**2 + 1.0))**3)*((t_x + x*(-2.0*qy**2 - 2.0*qz**2 + 1.0) + y*(-2.0*qr*qz + 2.0*qx*qy) + z*(2.0*qr*qy + 2.0*qx*qz))**2/(t_z + x*(-2.0*qr*qy + 2.0*qx*qz) + y*(2.0*qr*qx + 2.0*qy*qz) + z*(-2.0*qx**2 - 2.0*qy**2 + 1.0))**2 + (t_y + x*(2.0*qr*qz + 2.0*qx*qy) + y*(-2.0*qx**2 - 2.0*qz**2 + 1.0) + z*(-2.0*qr*qx + 2.0*qy*qz))**2/(t_z + x*(-2.0*qr*qy + 2.0*qx*qz) + y*(2.0*qr*qx + 2.0*qy*qz) + z*(-2.0*qx**2 - 2.0*qy**2 + 1.0))**2)**2)*(t_y + x*(2.0*qr*qz + 2.0*qx*qy) + y*(-2.0*qx**2 - 2.0*qz**2 + 1.0) + z*(-2.0*qr*qx + 2.0*qy*qz))/(t_z + x*(-2.0*qr*qy + 2.0*qx*qz) + y*(2.0*qr*qx + 2.0*qy*qz) + z*(-2.0*qx**2 - 2.0*qy**2 + 1.0)) - f_v*(t_y + x*(2.0*qr*qz + 2.0*qx*qy) + y*(-2.0*qx**2 - 2.0*qz**2 + 1.0) + z*(-2.0*qr*qx + 2.0*qy*qz))*(k1*((t_x + x*(-2.0*qy**2 - 2.0*qz**2 + 1.0) + y*(-2.0*qr*qz + 2.0*qx*qy) + z*(2.0*qr*qy + 2.0*qx*qz))**2/(t_z + x*(-2.0*qr*qy + 2.0*qx*qz) + y*(2.0*qr*qx + 2.0*qy*qz) + z*(-2.0*qx**2 - 2.0*qy**2 + 1.0))**2 + (t_y + x*(2.0*qr*qz + 2.0*qx*qy) + y*(-2.0*qx**2 - 2.0*qz**2 + 1.0) + z*(-2.0*qr*qx + 2.0*qy*qz))**2/(t_z + x*(-2.0*qr*qy + 2.0*qx*qz) + y*(2.0*qr*qx + 2.0*qy*qz) + z*(-2.0*qx**2 - 2.0*qy**2 + 1.0))**2) + k2*((t_x + x*(-2.0*qy**2 - 2.0*qz**2 + 1.0) + y*(-2.0*qr*qz + 2.0*qx*qy) + z*(2.0*qr*qy + 2.0*qx*qz))**2/(t_z + x*(-2.0*qr*qy + 2.0*qx*qz) + y*(2.0*qr*qx + 2.0*qy*qz) + z*(-2.0*qx**2 - 2.0*qy**2 + 1.0))**2 + (t_y + x*(2.0*qr*qz + 2.0*qx*qy) + y*(-2.0*qx**2 - 2.0*qz**2 + 1.0) + z*(-2.0*qr*qx + 2.0*qy*qz))**2/(t_z + x*(-2.0*qr*qy + 2.0*qx*qz) + y*(2.0*qr*qx + 2.0*qy*qz) + z*(-2.0*qx**2 - 2.0*qy**2 + 1.0))**2)**2 + k3*((t_x + x*(-2.0*qy**2 - 2.0*qz**2 + 1.0) + y*(-2.0*qr*qz + 2.0*qx*qy) + z*(2.0*qr*qy + 2.0*qx*qz))**2/(t_z + x*(-2.0*qr*qy + 2.0*qx*qz) + y*(2.0*qr*qx + 2.0*qy*qz) + z*(-2.0*qx**2 - 2.0*qy**2 + 1.0))**2 + (t_y + x*(2.0*qr*qz + 2.0*qx*qy) + y*(-2.0*qx**2 - 2.0*qz**2 + 1.0) + z*(-2.0*qr*qx + 2.0*qy*qz))**2/(t_z + x*(-2.0*qr*qy + 2.0*qx*qz) + y*(2.0*qr*qx + 2.0*qy*qz) + z*(-2.0*qx**2 - 2.0*qy**2 + 1.0))**2)**3 + 1)/(t_z + x*(-2.0*qr*qy + 2.0*qx*qz) + y*(2.0*qr*qx + 2.0*qy*qz) + z*(-2.0*qx**2 - 2.0*qy**2 + 1.0))**2], [0]])\n"
     ]
    }
   ],
   "metadata": {}
  }
 ],
 "metadata": {
  "orig_nbformat": 4,
  "language_info": {
   "name": "python",
   "version": "3.7.3",
   "mimetype": "text/x-python",
   "codemirror_mode": {
    "name": "ipython",
    "version": 3
   },
   "pygments_lexer": "ipython3",
   "nbconvert_exporter": "python",
   "file_extension": ".py"
  },
  "kernelspec": {
   "name": "python3",
   "display_name": "Python 3.7.3 64-bit"
  },
  "interpreter": {
   "hash": "04635d289a519a1410467dd0afb0db42f9184808881ca68b2eb5a687a20a5a94"
  }
 },
 "nbformat": 4,
 "nbformat_minor": 2
}